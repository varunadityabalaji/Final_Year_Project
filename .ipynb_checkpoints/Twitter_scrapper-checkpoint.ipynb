{
 "cells": [
  {
   "cell_type": "code",
   "execution_count": 1,
   "id": "838466e5",
   "metadata": {},
   "outputs": [],
   "source": [
    "import tweepy"
   ]
  },
  {
   "cell_type": "code",
   "execution_count": null,
   "id": "22836fed",
   "metadata": {},
   "outputs": [],
   "source": [
    "\n",
    "consumer_key = \"GsxkB5xQhnFNbiWVDZSasrMTN\"\n",
    "consumer_secret = \"VjoRv0Qj64WWuX8Vk3mMbzEMESbe2flRbvVCiTio0sEBjG0nc6\"\n",
    "access_token = \"1486598810088263682-CQpXbJhEPPggvxETtMQADK5LGSTO9a\"\n",
    "access_token_secret = \"my8Mu2TT7dyw5LD1xrSkVBogjKRdpESu5n6iUZgdaJlIF\""
   ]
  }
 ],
 "metadata": {
  "kernelspec": {
   "display_name": "Python 3 (ipykernel)",
   "language": "python",
   "name": "python3"
  },
  "language_info": {
   "codemirror_mode": {
    "name": "ipython",
    "version": 3
   },
   "file_extension": ".py",
   "mimetype": "text/x-python",
   "name": "python",
   "nbconvert_exporter": "python",
   "pygments_lexer": "ipython3",
   "version": "3.9.7"
  }
 },
 "nbformat": 4,
 "nbformat_minor": 5
}
