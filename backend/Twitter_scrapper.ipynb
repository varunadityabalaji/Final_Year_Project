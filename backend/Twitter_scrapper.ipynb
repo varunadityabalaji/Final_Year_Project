{
 "cells": [
  {
   "cell_type": "code",
   "execution_count": 85,
   "id": "81bf6822",
   "metadata": {},
   "outputs": [],
   "source": [
    "import tweepy\n",
    "from pandas import DataFrame"
   ]
  },
  {
   "cell_type": "code",
   "execution_count": 86,
   "id": "4bd522fd",
   "metadata": {},
   "outputs": [],
   "source": [
    "consumer_key = \"GsxkB5xQhnFNbiWVDZSasrMTN\"\n",
    "consumer_secret = \"VjoRv0Qj64WWuX8Vk3mMbzEMESbe2flRbvVCiTio0sEBjG0nc6\"\n",
    "access_token = \"1486598810088263682-CQpXbJhEPPggvxETtMQADK5LGSTO9a\"\n",
    "access_token_secret = \"my8Mu2TT7dyw5LD1xrSkVBogjKRdpESu5n6iUZgdaJlIF\""
   ]
  },
  {
   "cell_type": "code",
   "execution_count": 87,
   "id": "b1d6dfde",
   "metadata": {},
   "outputs": [],
   "source": [
    "# Creating the authentication object\n",
    "auth = tweepy.OAuthHandler(consumer_key, consumer_secret)\n",
    "# Setting your access token and secret\n",
    "auth.set_access_token(access_token, access_token_secret)\n",
    "# Creating the API object while passing in auth information\n",
    "api = tweepy.API(auth) "
   ]
  },
  {
   "cell_type": "code",
   "execution_count": 103,
   "id": "c45010bd",
   "metadata": {},
   "outputs": [],
   "source": [
    "userID = \"YahooFinance\"\n",
    "\n",
    "tweets = api.user_timeline(screen_name=userID, \n",
    "              \n",
    "                        # 200 is the maximum allowed count\n",
    "                        count=200,\n",
    "                        include_rts = False,\n",
    "                        # Necessary to keep full_text \n",
    "                        # otherwise only the first 140 words are extracted\n",
    "                        tweet_mode = 'extended'\n",
    "                        )"
   ]
  },
  {
   "cell_type": "code",
   "execution_count": 104,
   "id": "d9a569ac",
   "metadata": {},
   "outputs": [],
   "source": [
    "all_tweets = []\n",
    "all_tweets.extend(tweets)\n",
    "oldest_id = tweets[-1].id\n",
    "while True:\n",
    "    tweets = api.user_timeline(screen_name=userID, \n",
    "                           # 200 is the maximum allowed count\n",
    "                           count=200,\n",
    "                           include_rts = False,\n",
    "                           max_id = oldest_id - 1,\n",
    "                           # Necessary to keep full_text \n",
    "                           # otherwise only the first 140 words are extracted\n",
    "                           tweet_mode = 'extended'\n",
    "                           )\n",
    "    if len(tweets) == 0 or len(all_tweets)>=5000:\n",
    "        break\n",
    "    oldest_id = tweets[-1].id\n",
    "    all_tweets.extend(tweets)"
   ]
  },
  {
   "cell_type": "code",
   "execution_count": 105,
   "id": "2d0b6c18",
   "metadata": {},
   "outputs": [],
   "source": [
    "\n",
    "outtweets = [[tweet.created_at,\n",
    "              'c',\n",
    "              tweet.full_text.encode(\"utf-8\").decode(\"utf-8\")] \n",
    "             for idx,tweet in enumerate(all_tweets)]\n",
    "df = DataFrame(outtweets,columns=[\"date\",\"identifier\",\"tweets\"])\n",
    "df.to_csv('%s_tweets.csv' % userID,index=False)\n"
   ]
  },
  {
   "cell_type": "code",
   "execution_count": null,
   "id": "23c64c52",
   "metadata": {},
   "outputs": [],
   "source": []
  }
 ],
 "metadata": {
  "kernelspec": {
   "display_name": "Python 3 (ipykernel)",
   "language": "python",
   "name": "python3"
  },
  "language_info": {
   "codemirror_mode": {
    "name": "ipython",
    "version": 3
   },
   "file_extension": ".py",
   "mimetype": "text/x-python",
   "name": "python",
   "nbconvert_exporter": "python",
   "pygments_lexer": "ipython3",
   "version": "3.9.7"
  }
 },
 "nbformat": 4,
 "nbformat_minor": 5
}
