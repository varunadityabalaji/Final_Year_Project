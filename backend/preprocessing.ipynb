{
 "cells": [
  {
   "cell_type": "code",
   "execution_count": 1,
   "metadata": {},
   "outputs": [
    {
     "name": "stderr",
     "output_type": "stream",
     "text": [
      "All model checkpoint layers were used when initializing TFBertForSequenceClassification.\n",
      "\n",
      "Some layers of TFBertForSequenceClassification were not initialized from the model checkpoint at bert-base-uncased and are newly initialized: ['classifier']\n",
      "You should probably TRAIN this model on a down-stream task to be able to use it for predictions and inference.\n"
     ]
    }
   ],
   "source": [
    "import pandas as pd\n",
    "import preprocessor as p\n",
    "from transformers import BertTokenizer, TFBertForSequenceClassification\n",
    "from transformers import InputExample, InputFeatures\n",
    "import tensorflow as tf\n",
    "\n",
    "model = TFBertForSequenceClassification.from_pretrained(\"bert-base-uncased\")\n",
    "tokenizer = BertTokenizer.from_pretrained(\"bert-base-uncased\")"
   ]
  },
  {
   "cell_type": "code",
   "execution_count": 236,
   "metadata": {},
   "outputs": [],
   "source": [
    "df = pd.read_csv(r'C:\\Users\\avbalaji2\\Desktop\\Final_Year_Project\\backend\\training data\\YahooFinance_tweets.csv')"
   ]
  },
  {
   "cell_type": "code",
   "execution_count": 237,
   "metadata": {},
   "outputs": [
    {
     "data": {
      "text/html": [
       "<div>\n",
       "<style scoped>\n",
       "    .dataframe tbody tr th:only-of-type {\n",
       "        vertical-align: middle;\n",
       "    }\n",
       "\n",
       "    .dataframe tbody tr th {\n",
       "        vertical-align: top;\n",
       "    }\n",
       "\n",
       "    .dataframe thead th {\n",
       "        text-align: right;\n",
       "    }\n",
       "</style>\n",
       "<table border=\"1\" class=\"dataframe\">\n",
       "  <thead>\n",
       "    <tr style=\"text-align: right;\">\n",
       "      <th></th>\n",
       "      <th>date</th>\n",
       "      <th>identifier</th>\n",
       "      <th>tweets</th>\n",
       "    </tr>\n",
       "  </thead>\n",
       "  <tbody>\n",
       "    <tr>\n",
       "      <th>0</th>\n",
       "      <td>2022-01-28 07:57:43+00:00</td>\n",
       "      <td>c</td>\n",
       "      <td>Robinhood quarterly revenue misses estimates, ...</td>\n",
       "    </tr>\n",
       "    <tr>\n",
       "      <th>1</th>\n",
       "      <td>2022-01-28 07:36:22+00:00</td>\n",
       "      <td>c</td>\n",
       "      <td>Inflation: Seniors struggle with a new era of ...</td>\n",
       "    </tr>\n",
       "    <tr>\n",
       "      <th>2</th>\n",
       "      <td>2022-01-28 07:13:08+00:00</td>\n",
       "      <td>c</td>\n",
       "      <td>Ackman boosts Netflix, but here's why one bear...</td>\n",
       "    </tr>\n",
       "    <tr>\n",
       "      <th>3</th>\n",
       "      <td>2022-01-28 06:51:46+00:00</td>\n",
       "      <td>c</td>\n",
       "      <td>Bentley CEO details $3.4 billion ‘transformati...</td>\n",
       "    </tr>\n",
       "    <tr>\n",
       "      <th>4</th>\n",
       "      <td>2022-01-28 06:30:51+00:00</td>\n",
       "      <td>c</td>\n",
       "      <td>Why Tesla is building a humanoid robot https:/...</td>\n",
       "    </tr>\n",
       "  </tbody>\n",
       "</table>\n",
       "</div>"
      ],
      "text/plain": [
       "                        date identifier  \\\n",
       "0  2022-01-28 07:57:43+00:00          c   \n",
       "1  2022-01-28 07:36:22+00:00          c   \n",
       "2  2022-01-28 07:13:08+00:00          c   \n",
       "3  2022-01-28 06:51:46+00:00          c   \n",
       "4  2022-01-28 06:30:51+00:00          c   \n",
       "\n",
       "                                              tweets  \n",
       "0  Robinhood quarterly revenue misses estimates, ...  \n",
       "1  Inflation: Seniors struggle with a new era of ...  \n",
       "2  Ackman boosts Netflix, but here's why one bear...  \n",
       "3  Bentley CEO details $3.4 billion ‘transformati...  \n",
       "4  Why Tesla is building a humanoid robot https:/...  "
      ]
     },
     "execution_count": 237,
     "metadata": {},
     "output_type": "execute_result"
    }
   ],
   "source": [
    "df.head()"
   ]
  },
  {
   "cell_type": "code",
   "execution_count": 238,
   "metadata": {},
   "outputs": [],
   "source": [
    "df=df.drop('identifier',axis=1)\n"
   ]
  },
  {
   "cell_type": "code",
   "execution_count": 239,
   "metadata": {},
   "outputs": [],
   "source": [
    "from datetime import datetime\n",
    "indexes_to_drop = []\n",
    "date_list = []\n",
    "list_of_words = ['TSLA','Tesla','Electric Vehicle','Elon','Elon Musk','EV']\n",
    "for index, row in df.iterrows():\n",
    "    f = 0\n",
    "    for i in list_of_words:\n",
    "        if i in row['tweets']:\n",
    "            f = f+1        \n",
    "    if f==0:\n",
    "        indexes_to_drop.append(index)\n",
    "    else:\n",
    "        date_list.append(datetime.strptime(row['date'],'%Y-%m-%d %H:%M:%S%z').date())\n",
    "df.drop(df.index[indexes_to_drop], inplace=True)\n",
    "  "
   ]
  },
  {
   "cell_type": "code",
   "execution_count": 240,
   "metadata": {},
   "outputs": [],
   "source": [
    "df = df.drop('date',axis=1)"
   ]
  },
  {
   "cell_type": "code",
   "execution_count": 241,
   "metadata": {},
   "outputs": [],
   "source": [
    "df['date'] = date_list"
   ]
  },
  {
   "cell_type": "code",
   "execution_count": 242,
   "metadata": {},
   "outputs": [
    {
     "name": "stderr",
     "output_type": "stream",
     "text": [
      "C:\\Users\\avbalaji2\\AppData\\Local\\Temp\\ipykernel_1272\\3003785167.py:9: FutureWarning: Using a non-tuple sequence for multidimensional indexing is deprecated; use `arr[tuple(seq)]` instead of `arr[seq]`. In the future this will be interpreted as an array index, `arr[np.array(seq)]`, which will result either in an error or a different result.\n",
      "  sentiment_scores.append(-(tf_predictions.numpy()[0][label]))\n",
      "C:\\Users\\avbalaji2\\AppData\\Local\\Temp\\ipykernel_1272\\3003785167.py:11: FutureWarning: Using a non-tuple sequence for multidimensional indexing is deprecated; use `arr[tuple(seq)]` instead of `arr[seq]`. In the future this will be interpreted as an array index, `arr[np.array(seq)]`, which will result either in an error or a different result.\n",
      "  sentiment_scores.append((tf_predictions.numpy()[0][label]))\n"
     ]
    }
   ],
   "source": [
    "sentiment_scores = []\n",
    "for index, row in df.iterrows():\n",
    "    pred_sentences = p.clean(row.tweets)\n",
    "    tf_batch = tokenizer(pred_sentences, max_length=128, padding=True, truncation=True, return_tensors='tf')\n",
    "    tf_outputs = model(tf_batch)\n",
    "    tf_predictions = tf.nn.softmax(tf_outputs[0], axis=-1)\n",
    "    label = tf.argmax(tf_predictions, axis=1)\n",
    "    if label==0:\n",
    "        sentiment_scores.append(-(tf_predictions.numpy()[0][label]))\n",
    "    else:\n",
    "        sentiment_scores.append((tf_predictions.numpy()[0][label]))"
   ]
  },
  {
   "cell_type": "code",
   "execution_count": 243,
   "metadata": {},
   "outputs": [
    {
     "data": {
      "text/html": [
       "<div>\n",
       "<style scoped>\n",
       "    .dataframe tbody tr th:only-of-type {\n",
       "        vertical-align: middle;\n",
       "    }\n",
       "\n",
       "    .dataframe tbody tr th {\n",
       "        vertical-align: top;\n",
       "    }\n",
       "\n",
       "    .dataframe thead th {\n",
       "        text-align: right;\n",
       "    }\n",
       "</style>\n",
       "<table border=\"1\" class=\"dataframe\">\n",
       "  <thead>\n",
       "    <tr style=\"text-align: right;\">\n",
       "      <th></th>\n",
       "      <th>tweets</th>\n",
       "      <th>date</th>\n",
       "    </tr>\n",
       "  </thead>\n",
       "  <tbody>\n",
       "    <tr>\n",
       "      <th>4</th>\n",
       "      <td>Why Tesla is building a humanoid robot https:/...</td>\n",
       "      <td>2022-01-28</td>\n",
       "    </tr>\n",
       "    <tr>\n",
       "      <th>6</th>\n",
       "      <td>Tesla is disappointing investors because it do...</td>\n",
       "      <td>2022-01-28</td>\n",
       "    </tr>\n",
       "    <tr>\n",
       "      <th>8</th>\n",
       "      <td>Lucid stock falls after rival Tesla warns abou...</td>\n",
       "      <td>2022-01-28</td>\n",
       "    </tr>\n",
       "    <tr>\n",
       "      <th>12</th>\n",
       "      <td>Tesla stock slide 8% over supply-chain woes an...</td>\n",
       "      <td>2022-01-28</td>\n",
       "    </tr>\n",
       "    <tr>\n",
       "      <th>21</th>\n",
       "      <td>Bentley CEO: EV interest from luxury buyers do...</td>\n",
       "      <td>2022-01-27</td>\n",
       "    </tr>\n",
       "  </tbody>\n",
       "</table>\n",
       "</div>"
      ],
      "text/plain": [
       "                                               tweets        date\n",
       "4   Why Tesla is building a humanoid robot https:/...  2022-01-28\n",
       "6   Tesla is disappointing investors because it do...  2022-01-28\n",
       "8   Lucid stock falls after rival Tesla warns abou...  2022-01-28\n",
       "12  Tesla stock slide 8% over supply-chain woes an...  2022-01-28\n",
       "21  Bentley CEO: EV interest from luxury buyers do...  2022-01-27"
      ]
     },
     "execution_count": 243,
     "metadata": {},
     "output_type": "execute_result"
    }
   ],
   "source": [
    "df.head()"
   ]
  },
  {
   "cell_type": "code",
   "execution_count": 244,
   "metadata": {},
   "outputs": [],
   "source": [
    "df['yahoo_score'] = sentiment_scores"
   ]
  },
  {
   "cell_type": "code",
   "execution_count": 245,
   "metadata": {},
   "outputs": [
    {
     "data": {
      "text/html": [
       "<div>\n",
       "<style scoped>\n",
       "    .dataframe tbody tr th:only-of-type {\n",
       "        vertical-align: middle;\n",
       "    }\n",
       "\n",
       "    .dataframe tbody tr th {\n",
       "        vertical-align: top;\n",
       "    }\n",
       "\n",
       "    .dataframe thead th {\n",
       "        text-align: right;\n",
       "    }\n",
       "</style>\n",
       "<table border=\"1\" class=\"dataframe\">\n",
       "  <thead>\n",
       "    <tr style=\"text-align: right;\">\n",
       "      <th></th>\n",
       "      <th>tweets</th>\n",
       "      <th>date</th>\n",
       "      <th>yahoo_score</th>\n",
       "    </tr>\n",
       "  </thead>\n",
       "  <tbody>\n",
       "    <tr>\n",
       "      <th>4</th>\n",
       "      <td>Why Tesla is building a humanoid robot https:/...</td>\n",
       "      <td>2022-01-28</td>\n",
       "      <td>-0.509248</td>\n",
       "    </tr>\n",
       "    <tr>\n",
       "      <th>6</th>\n",
       "      <td>Tesla is disappointing investors because it do...</td>\n",
       "      <td>2022-01-28</td>\n",
       "      <td>-0.522069</td>\n",
       "    </tr>\n",
       "    <tr>\n",
       "      <th>8</th>\n",
       "      <td>Lucid stock falls after rival Tesla warns abou...</td>\n",
       "      <td>2022-01-28</td>\n",
       "      <td>0.540681</td>\n",
       "    </tr>\n",
       "    <tr>\n",
       "      <th>12</th>\n",
       "      <td>Tesla stock slide 8% over supply-chain woes an...</td>\n",
       "      <td>2022-01-28</td>\n",
       "      <td>0.509675</td>\n",
       "    </tr>\n",
       "    <tr>\n",
       "      <th>21</th>\n",
       "      <td>Bentley CEO: EV interest from luxury buyers do...</td>\n",
       "      <td>2022-01-27</td>\n",
       "      <td>-0.511968</td>\n",
       "    </tr>\n",
       "    <tr>\n",
       "      <th>...</th>\n",
       "      <td>...</td>\n",
       "      <td>...</td>\n",
       "      <td>...</td>\n",
       "    </tr>\n",
       "    <tr>\n",
       "      <th>2912</th>\n",
       "      <td>$TM’s EV battery plant “will have a tremendous...</td>\n",
       "      <td>2021-12-07</td>\n",
       "      <td>-0.538205</td>\n",
       "    </tr>\n",
       "    <tr>\n",
       "      <th>2917</th>\n",
       "      <td>Fmr. Tesla Field Quality Mgr. Steven Henkes on...</td>\n",
       "      <td>2021-12-07</td>\n",
       "      <td>-0.519255</td>\n",
       "    </tr>\n",
       "    <tr>\n",
       "      <th>2953</th>\n",
       "      <td>Tesla replacing faulty Autopilot cameras in so...</td>\n",
       "      <td>2021-12-06</td>\n",
       "      <td>-0.523145</td>\n",
       "    </tr>\n",
       "    <tr>\n",
       "      <th>2954</th>\n",
       "      <td>EV maker Lucid receives an SEC subpoena on a $...</td>\n",
       "      <td>2021-12-06</td>\n",
       "      <td>0.507301</td>\n",
       "    </tr>\n",
       "    <tr>\n",
       "      <th>2988</th>\n",
       "      <td>Tesla stock drops into bear territory amid rep...</td>\n",
       "      <td>2021-12-06</td>\n",
       "      <td>0.537903</td>\n",
       "    </tr>\n",
       "  </tbody>\n",
       "</table>\n",
       "<p>111 rows × 3 columns</p>\n",
       "</div>"
      ],
      "text/plain": [
       "                                                 tweets        date  \\\n",
       "4     Why Tesla is building a humanoid robot https:/...  2022-01-28   \n",
       "6     Tesla is disappointing investors because it do...  2022-01-28   \n",
       "8     Lucid stock falls after rival Tesla warns abou...  2022-01-28   \n",
       "12    Tesla stock slide 8% over supply-chain woes an...  2022-01-28   \n",
       "21    Bentley CEO: EV interest from luxury buyers do...  2022-01-27   \n",
       "...                                                 ...         ...   \n",
       "2912  $TM’s EV battery plant “will have a tremendous...  2021-12-07   \n",
       "2917  Fmr. Tesla Field Quality Mgr. Steven Henkes on...  2021-12-07   \n",
       "2953  Tesla replacing faulty Autopilot cameras in so...  2021-12-06   \n",
       "2954  EV maker Lucid receives an SEC subpoena on a $...  2021-12-06   \n",
       "2988  Tesla stock drops into bear territory amid rep...  2021-12-06   \n",
       "\n",
       "      yahoo_score  \n",
       "4       -0.509248  \n",
       "6       -0.522069  \n",
       "8        0.540681  \n",
       "12       0.509675  \n",
       "21      -0.511968  \n",
       "...           ...  \n",
       "2912    -0.538205  \n",
       "2917    -0.519255  \n",
       "2953    -0.523145  \n",
       "2954     0.507301  \n",
       "2988     0.537903  \n",
       "\n",
       "[111 rows x 3 columns]"
      ]
     },
     "execution_count": 245,
     "metadata": {},
     "output_type": "execute_result"
    }
   ],
   "source": [
    "df"
   ]
  },
  {
   "cell_type": "code",
   "execution_count": 246,
   "metadata": {},
   "outputs": [],
   "source": [
    "df = df.drop('tweets',axis=1)"
   ]
  },
  {
   "cell_type": "code",
   "execution_count": 247,
   "metadata": {},
   "outputs": [],
   "source": [
    "df.to_csv(r'C:\\Users\\avbalaji2\\Desktop\\Final_Year_Project\\backend\\training data\\YahooFinance_tweets.csv')"
   ]
  },
  {
   "cell_type": "code",
   "execution_count": null,
   "metadata": {},
   "outputs": [],
   "source": []
  }
 ],
 "metadata": {
  "interpreter": {
   "hash": "f2b1444dd77987d4898b848474778c233ecdb4e37b95a50a0b9c1269e02dfd1c"
  },
  "kernelspec": {
   "display_name": "Python 3.10.2 64-bit",
   "language": "python",
   "name": "python3"
  },
  "language_info": {
   "codemirror_mode": {
    "name": "ipython",
    "version": 3
   },
   "file_extension": ".py",
   "mimetype": "text/x-python",
   "name": "python",
   "nbconvert_exporter": "python",
   "pygments_lexer": "ipython3",
   "version": "3.10.2"
  },
  "orig_nbformat": 4
 },
 "nbformat": 4,
 "nbformat_minor": 2
}
