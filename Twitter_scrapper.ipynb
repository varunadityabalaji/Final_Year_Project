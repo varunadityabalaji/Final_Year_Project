{
 "cells": [
  {
   "cell_type": "code",
   "execution_count": 1,
   "id": "81bf6822",
   "metadata": {},
   "outputs": [],
   "source": [
    "import tweepy"
   ]
  },
  {
   "cell_type": "code",
   "execution_count": 2,
   "id": "4bd522fd",
   "metadata": {},
   "outputs": [],
   "source": [
    "consumer_key = \"GsxkB5xQhnFNbiWVDZSasrMTN\"\n",
    "consumer_secret = \"VjoRv0Qj64WWuX8Vk3mMbzEMESbe2flRbvVCiTio0sEBjG0nc6\"\n",
    "access_token = \"1486598810088263682-CQpXbJhEPPggvxETtMQADK5LGSTO9a\"\n",
    "access_token_secret = \"my8Mu2TT7dyw5LD1xrSkVBogjKRdpESu5n6iUZgdaJlIF\""
   ]
  },
  {
   "cell_type": "code",
   "execution_count": 3,
   "id": "b1d6dfde",
   "metadata": {},
   "outputs": [],
   "source": [
    "# Creating the authentication object\n",
    "auth = tweepy.OAuthHandler(consumer_key, consumer_secret)\n",
    "# Setting your access token and secret\n",
    "auth.set_access_token(access_token, access_token_secret)\n",
    "# Creating the API object while passing in auth information\n",
    "api = tweepy.API(auth) "
   ]
  },
  {
   "cell_type": "code",
   "execution_count": 6,
   "id": "c45010bd",
   "metadata": {},
   "outputs": [
    {
     "name": "stdout",
     "output_type": "stream",
     "text": [
      "Been driving latest Cybertruck prototype around Giga Texas. It’s awesome!\n",
      "https://t.co/iLfCWdi0Lb\n",
      "I will eat a happy meal on tv if @McDonalds accepts Dogecoin\n",
      "https://t.co/ReDlSVLcl7\n",
      "https://t.co/gT0jq8Z6iH\n",
      "RT @Tesla: Graffiti art at Giga Berlin https://t.co/aOj4kZNcbU\n",
      "Twitter is spending engineering resources on this bs while crypto scammers are throwing a spambot block party in every thread!?\n",
      "This is annoying https://t.co/KAkDl29CTX\n",
      "Maybe something like this https://t.co/PUBLdaewt8\n",
      "https://t.co/rTlxHR4zi1\n",
      "Frank &amp; Beans https://t.co/xJfuW6HKs4\n",
      "Tesla AI might play a role in AGI, given that it trains against the outside world, especially with the advent of Optimus\n",
      "https://t.co/n2ivCG4E8b\n",
      "Believe in the future!\n",
      "Back to the moon soon\n",
      "https://t.co/vltBvTXExY\n",
      "https://t.co/OE5bjbf6Gq\n",
      "https://t.co/xMaVipUuYf\n",
      "If there aren’t enough people for Earth, then there definitely won’t be enough for Mars ☹️\n",
      "UN projections are utter nonsense. Just multiply last year’s births by life expectancy. Given downward trend in bir… https://t.co/46yabDpaaC\n"
     ]
    }
   ],
   "source": [
    "public_tweets = api.home_timeline()\n",
    "# foreach through all tweets pulled\n",
    "for tweet in public_tweets:\n",
    "   # printing the text stored inside the tweet object\n",
    "   print(tweet.text)"
   ]
  },
  {
   "cell_type": "code",
   "execution_count": null,
   "id": "cc59b9b7",
   "metadata": {},
   "outputs": [],
   "source": []
  }
 ],
 "metadata": {
  "kernelspec": {
   "display_name": "Python 3 (ipykernel)",
   "language": "python",
   "name": "python3"
  },
  "language_info": {
   "codemirror_mode": {
    "name": "ipython",
    "version": 3
   },
   "file_extension": ".py",
   "mimetype": "text/x-python",
   "name": "python",
   "nbconvert_exporter": "python",
   "pygments_lexer": "ipython3",
   "version": "3.9.7"
  }
 },
 "nbformat": 4,
 "nbformat_minor": 5
}
